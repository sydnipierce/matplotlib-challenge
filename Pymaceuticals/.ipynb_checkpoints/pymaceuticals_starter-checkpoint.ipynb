{
 "cells": [
  {
   "cell_type": "markdown",
   "metadata": {},
   "source": [
    "## Observations and Insights "
   ]
  },
  {
   "cell_type": "markdown",
   "metadata": {},
   "source": [
    "The analysis below reveals the following 4 insights:\n",
    "1. The two drug regimens with the greatest number of recorded measures also appear to be associated with the lowest average tumor volume in the study mice.\n",
    "2. The overall sex distribution of the study mice is roughly equal. So long as this distribution does not differ when measured by drug regimen, it appears sex is not a significant factor in explaining tumor volume.\n",
    "3. Capomulin-treated mice appear to demonstrate a correlation between weight and average tumor volume. It is unclear from the analysis whether this finding holds for other drug regimens. If so, weight could potentially be a significant factor in explaining tumor volume.\n",
    "4. The mice treated with the 4 most promising drug regimens only have one tumor volume outlier. This suggests that tumor volumes are fairly closely clustered around the mean and, therefore, other outside variables may be relatively less significant in explaining tumor volume."
   ]
  },
  {
   "cell_type": "markdown",
   "metadata": {},
   "source": [
    "# Import Files"
   ]
  },
  {
   "cell_type": "code",
   "execution_count": 52,
   "metadata": {},
   "outputs": [],
   "source": [
    "# Dependencies and Setup\n",
    "import matplotlib.pyplot as plt\n",
    "import pandas as pd\n",
    "import numpy as np\n",
    "import scipy.stats as st\n",
    "import os\n",
    "from scipy.stats import linregress\n",
    "\n",
    "# Establish data file paths\n",
    "mouse_metadata_path = os.path.join(\"..\", \"Resources\", \"Mouse_metadata.csv\")\n",
    "study_results_path = os.path.join(\"..\", \"Resources\", \"Study_results.csv\")\n",
    "\n",
    "# Read the mouse data and the study results as df's\n",
    "mouse_metadata = pd.read_csv(mouse_metadata_path)\n",
    "study_results = pd.read_csv(study_results_path)"
   ]
  },
  {
   "cell_type": "markdown",
   "metadata": {},
   "source": [
    "# Mouse Metadata File"
   ]
  },
  {
   "cell_type": "code",
   "execution_count": 2,
   "metadata": {},
   "outputs": [
    {
     "data": {
      "text/html": [
       "<div>\n",
       "<style scoped>\n",
       "    .dataframe tbody tr th:only-of-type {\n",
       "        vertical-align: middle;\n",
       "    }\n",
       "\n",
       "    .dataframe tbody tr th {\n",
       "        vertical-align: top;\n",
       "    }\n",
       "\n",
       "    .dataframe thead th {\n",
       "        text-align: right;\n",
       "    }\n",
       "</style>\n",
       "<table border=\"1\" class=\"dataframe\">\n",
       "  <thead>\n",
       "    <tr style=\"text-align: right;\">\n",
       "      <th></th>\n",
       "      <th>Mouse ID</th>\n",
       "      <th>Drug Regimen</th>\n",
       "      <th>Sex</th>\n",
       "      <th>Age_months</th>\n",
       "      <th>Weight (g)</th>\n",
       "    </tr>\n",
       "  </thead>\n",
       "  <tbody>\n",
       "    <tr>\n",
       "      <th>0</th>\n",
       "      <td>k403</td>\n",
       "      <td>Ramicane</td>\n",
       "      <td>Male</td>\n",
       "      <td>21</td>\n",
       "      <td>16</td>\n",
       "    </tr>\n",
       "    <tr>\n",
       "      <th>1</th>\n",
       "      <td>s185</td>\n",
       "      <td>Capomulin</td>\n",
       "      <td>Female</td>\n",
       "      <td>3</td>\n",
       "      <td>17</td>\n",
       "    </tr>\n",
       "    <tr>\n",
       "      <th>2</th>\n",
       "      <td>x401</td>\n",
       "      <td>Capomulin</td>\n",
       "      <td>Female</td>\n",
       "      <td>16</td>\n",
       "      <td>15</td>\n",
       "    </tr>\n",
       "    <tr>\n",
       "      <th>3</th>\n",
       "      <td>m601</td>\n",
       "      <td>Capomulin</td>\n",
       "      <td>Male</td>\n",
       "      <td>22</td>\n",
       "      <td>17</td>\n",
       "    </tr>\n",
       "    <tr>\n",
       "      <th>4</th>\n",
       "      <td>g791</td>\n",
       "      <td>Ramicane</td>\n",
       "      <td>Male</td>\n",
       "      <td>11</td>\n",
       "      <td>16</td>\n",
       "    </tr>\n",
       "  </tbody>\n",
       "</table>\n",
       "</div>"
      ],
      "text/plain": [
       "  Mouse ID Drug Regimen     Sex  Age_months  Weight (g)\n",
       "0     k403     Ramicane    Male          21          16\n",
       "1     s185    Capomulin  Female           3          17\n",
       "2     x401    Capomulin  Female          16          15\n",
       "3     m601    Capomulin    Male          22          17\n",
       "4     g791     Ramicane    Male          11          16"
      ]
     },
     "execution_count": 2,
     "metadata": {},
     "output_type": "execute_result"
    }
   ],
   "source": [
    "# View mouse metadata df\n",
    "mouse_metadata.head()"
   ]
  },
  {
   "cell_type": "code",
   "execution_count": 3,
   "metadata": {},
   "outputs": [
    {
     "data": {
      "text/plain": [
       "Mouse ID        249\n",
       "Drug Regimen    249\n",
       "Sex             249\n",
       "Age_months      249\n",
       "Weight (g)      249\n",
       "dtype: int64"
      ]
     },
     "execution_count": 3,
     "metadata": {},
     "output_type": "execute_result"
    }
   ],
   "source": [
    "# Understand df structure - count rows in table\n",
    "mouse_metadata.count()"
   ]
  },
  {
   "cell_type": "code",
   "execution_count": 4,
   "metadata": {},
   "outputs": [
    {
     "data": {
      "text/plain": [
       "249"
      ]
     },
     "execution_count": 4,
     "metadata": {},
     "output_type": "execute_result"
    }
   ],
   "source": [
    "# Understand df structure - count unique mouse ID values\n",
    "len(pd.unique(mouse_metadata[\"Mouse ID\"]))\n",
    "\n",
    "# df contains one row per mouse - total of 249 mice in study"
   ]
  },
  {
   "cell_type": "markdown",
   "metadata": {},
   "source": [
    "# Study Results File"
   ]
  },
  {
   "cell_type": "code",
   "execution_count": 5,
   "metadata": {},
   "outputs": [
    {
     "data": {
      "text/html": [
       "<div>\n",
       "<style scoped>\n",
       "    .dataframe tbody tr th:only-of-type {\n",
       "        vertical-align: middle;\n",
       "    }\n",
       "\n",
       "    .dataframe tbody tr th {\n",
       "        vertical-align: top;\n",
       "    }\n",
       "\n",
       "    .dataframe thead th {\n",
       "        text-align: right;\n",
       "    }\n",
       "</style>\n",
       "<table border=\"1\" class=\"dataframe\">\n",
       "  <thead>\n",
       "    <tr style=\"text-align: right;\">\n",
       "      <th></th>\n",
       "      <th>Mouse ID</th>\n",
       "      <th>Timepoint</th>\n",
       "      <th>Tumor Volume (mm3)</th>\n",
       "      <th>Metastatic Sites</th>\n",
       "    </tr>\n",
       "  </thead>\n",
       "  <tbody>\n",
       "    <tr>\n",
       "      <th>0</th>\n",
       "      <td>b128</td>\n",
       "      <td>0</td>\n",
       "      <td>45.0</td>\n",
       "      <td>0</td>\n",
       "    </tr>\n",
       "    <tr>\n",
       "      <th>1</th>\n",
       "      <td>f932</td>\n",
       "      <td>0</td>\n",
       "      <td>45.0</td>\n",
       "      <td>0</td>\n",
       "    </tr>\n",
       "    <tr>\n",
       "      <th>2</th>\n",
       "      <td>g107</td>\n",
       "      <td>0</td>\n",
       "      <td>45.0</td>\n",
       "      <td>0</td>\n",
       "    </tr>\n",
       "    <tr>\n",
       "      <th>3</th>\n",
       "      <td>a457</td>\n",
       "      <td>0</td>\n",
       "      <td>45.0</td>\n",
       "      <td>0</td>\n",
       "    </tr>\n",
       "    <tr>\n",
       "      <th>4</th>\n",
       "      <td>c819</td>\n",
       "      <td>0</td>\n",
       "      <td>45.0</td>\n",
       "      <td>0</td>\n",
       "    </tr>\n",
       "  </tbody>\n",
       "</table>\n",
       "</div>"
      ],
      "text/plain": [
       "  Mouse ID  Timepoint  Tumor Volume (mm3)  Metastatic Sites\n",
       "0     b128          0                45.0                 0\n",
       "1     f932          0                45.0                 0\n",
       "2     g107          0                45.0                 0\n",
       "3     a457          0                45.0                 0\n",
       "4     c819          0                45.0                 0"
      ]
     },
     "execution_count": 5,
     "metadata": {},
     "output_type": "execute_result"
    }
   ],
   "source": [
    "# View study results df\n",
    "study_results.head()"
   ]
  },
  {
   "cell_type": "code",
   "execution_count": 6,
   "metadata": {},
   "outputs": [
    {
     "data": {
      "text/plain": [
       "Mouse ID              1893\n",
       "Timepoint             1893\n",
       "Tumor Volume (mm3)    1893\n",
       "Metastatic Sites      1893\n",
       "dtype: int64"
      ]
     },
     "execution_count": 6,
     "metadata": {},
     "output_type": "execute_result"
    }
   ],
   "source": [
    "# Understand df structure - count rows in table\n",
    "study_results.count()"
   ]
  },
  {
   "cell_type": "code",
   "execution_count": 7,
   "metadata": {},
   "outputs": [
    {
     "data": {
      "text/plain": [
       "10"
      ]
     },
     "execution_count": 7,
     "metadata": {},
     "output_type": "execute_result"
    }
   ],
   "source": [
    "# Understand df structure - count unique mouse ID and timepoint values\n",
    "len(pd.unique(study_results[\"Mouse ID\"]))\n",
    "len(pd.unique(study_results[\"Timepoint\"]))\n",
    "\n",
    "# df contains multiple rows per mouse, 10 unique timepoint values"
   ]
  },
  {
   "cell_type": "code",
   "execution_count": 8,
   "metadata": {},
   "outputs": [
    {
     "data": {
      "text/plain": [
       "array([ 0,  5, 10, 15, 20, 25, 30, 35, 40, 45])"
      ]
     },
     "execution_count": 8,
     "metadata": {},
     "output_type": "execute_result"
    }
   ],
   "source": [
    "# List the unique timepoints\n",
    "study_results[\"Timepoint\"].unique()\n",
    "\n",
    "# Data is recorded for the mice every 5 days"
   ]
  },
  {
   "cell_type": "markdown",
   "metadata": {},
   "source": [
    "## Clean Study Results File"
   ]
  },
  {
   "cell_type": "code",
   "execution_count": 9,
   "metadata": {},
   "outputs": [
    {
     "data": {
      "text/html": [
       "<div>\n",
       "<style scoped>\n",
       "    .dataframe tbody tr th:only-of-type {\n",
       "        vertical-align: middle;\n",
       "    }\n",
       "\n",
       "    .dataframe tbody tr th {\n",
       "        vertical-align: top;\n",
       "    }\n",
       "\n",
       "    .dataframe thead th {\n",
       "        text-align: right;\n",
       "    }\n",
       "</style>\n",
       "<table border=\"1\" class=\"dataframe\">\n",
       "  <thead>\n",
       "    <tr style=\"text-align: right;\">\n",
       "      <th></th>\n",
       "      <th>Mouse ID</th>\n",
       "      <th>Timepoint</th>\n",
       "      <th>Tumor Volume (mm3)</th>\n",
       "      <th>Metastatic Sites</th>\n",
       "    </tr>\n",
       "  </thead>\n",
       "  <tbody>\n",
       "    <tr>\n",
       "      <th>113</th>\n",
       "      <td>a203</td>\n",
       "      <td>0</td>\n",
       "      <td>45.000000</td>\n",
       "      <td>0</td>\n",
       "    </tr>\n",
       "    <tr>\n",
       "      <th>389</th>\n",
       "      <td>a203</td>\n",
       "      <td>5</td>\n",
       "      <td>48.508468</td>\n",
       "      <td>0</td>\n",
       "    </tr>\n",
       "    <tr>\n",
       "      <th>598</th>\n",
       "      <td>a203</td>\n",
       "      <td>10</td>\n",
       "      <td>51.852437</td>\n",
       "      <td>1</td>\n",
       "    </tr>\n",
       "    <tr>\n",
       "      <th>758</th>\n",
       "      <td>a203</td>\n",
       "      <td>15</td>\n",
       "      <td>52.777870</td>\n",
       "      <td>1</td>\n",
       "    </tr>\n",
       "    <tr>\n",
       "      <th>1018</th>\n",
       "      <td>a203</td>\n",
       "      <td>20</td>\n",
       "      <td>55.173336</td>\n",
       "      <td>1</td>\n",
       "    </tr>\n",
       "  </tbody>\n",
       "</table>\n",
       "</div>"
      ],
      "text/plain": [
       "     Mouse ID  Timepoint  Tumor Volume (mm3)  Metastatic Sites\n",
       "113      a203          0           45.000000                 0\n",
       "389      a203          5           48.508468                 0\n",
       "598      a203         10           51.852437                 1\n",
       "758      a203         15           52.777870                 1\n",
       "1018     a203         20           55.173336                 1"
      ]
     },
     "execution_count": 9,
     "metadata": {},
     "output_type": "execute_result"
    }
   ],
   "source": [
    "# Remove mice with duplicate timepoints\n",
    "# Create a new df sorted by mouse ID, then timepoint\n",
    "sort_study_results = study_results.sort_values(by=['Mouse ID', 'Timepoint'], ascending=[True, True])\n",
    "\n",
    "# Preview sorted df to ensure sorting worked as expected\n",
    "sort_study_results.head()"
   ]
  },
  {
   "cell_type": "code",
   "execution_count": 10,
   "metadata": {},
   "outputs": [
    {
     "data": {
      "text/plain": [
       "['g989', 'g989', 'g989', 'g989', 'g989']"
      ]
     },
     "execution_count": 10,
     "metadata": {},
     "output_type": "execute_result"
    }
   ],
   "source": [
    "# Create empty list to hold mouse IDs that have duplicate timepoints\n",
    "drop_rows = []\n",
    "\n",
    "# Loop through sorted df to pull mouse IDs into list for which duplicate timepoints exist\n",
    "for x in range(0, len(sort_study_results)):\n",
    "    if (sort_study_results.iloc[x, 0] == sort_study_results.iloc[x-1, 0]) & (sort_study_results.iloc[x, 1] == sort_study_results.iloc[x-1, 1]):\n",
    "        drop_rows.append(sort_study_results.iloc[x, 0])\n",
    "\n",
    "# Print list to see list of mouse IDs with duplicate timepoints\n",
    "drop_rows"
   ]
  },
  {
   "cell_type": "code",
   "execution_count": 11,
   "metadata": {},
   "outputs": [
    {
     "data": {
      "text/plain": [
       "['g989']"
      ]
     },
     "execution_count": 11,
     "metadata": {},
     "output_type": "execute_result"
    }
   ],
   "source": [
    "# Create a new list with only unique mouse IDs from the drop list\n",
    "unique_drop_rows_set = set(drop_rows)\n",
    "unique_drop_rows = (list(unique_drop_rows_set))\n",
    "unique_drop_rows"
   ]
  },
  {
   "cell_type": "code",
   "execution_count": 12,
   "metadata": {},
   "outputs": [
    {
     "data": {
      "text/plain": [
       "Mouse ID              1880\n",
       "Timepoint             1880\n",
       "Tumor Volume (mm3)    1880\n",
       "Metastatic Sites      1880\n",
       "dtype: int64"
      ]
     },
     "execution_count": 12,
     "metadata": {},
     "output_type": "execute_result"
    }
   ],
   "source": [
    "# Drop rows for any mouse ID contained in the drop list\n",
    "for value in unique_drop_rows:\n",
    "    study_results.drop(study_results[study_results['Mouse ID'] == value].index, inplace = True)\n",
    "\n",
    "# Print clean df\n",
    "study_results.count()\n",
    "\n",
    "# df appears to either contain 188 mice with full timepoint data or more mice (up to 248) with incomplete timepoint data"
   ]
  },
  {
   "cell_type": "markdown",
   "metadata": {},
   "source": [
    "# Create Combined Dataframe"
   ]
  },
  {
   "cell_type": "code",
   "execution_count": 13,
   "metadata": {},
   "outputs": [
    {
     "data": {
      "text/html": [
       "<div>\n",
       "<style scoped>\n",
       "    .dataframe tbody tr th:only-of-type {\n",
       "        vertical-align: middle;\n",
       "    }\n",
       "\n",
       "    .dataframe tbody tr th {\n",
       "        vertical-align: top;\n",
       "    }\n",
       "\n",
       "    .dataframe thead th {\n",
       "        text-align: right;\n",
       "    }\n",
       "</style>\n",
       "<table border=\"1\" class=\"dataframe\">\n",
       "  <thead>\n",
       "    <tr style=\"text-align: right;\">\n",
       "      <th></th>\n",
       "      <th>Mouse ID</th>\n",
       "      <th>Drug Regimen</th>\n",
       "      <th>Sex</th>\n",
       "      <th>Age_months</th>\n",
       "      <th>Weight (g)</th>\n",
       "      <th>Timepoint</th>\n",
       "      <th>Tumor Volume (mm3)</th>\n",
       "      <th>Metastatic Sites</th>\n",
       "    </tr>\n",
       "  </thead>\n",
       "  <tbody>\n",
       "    <tr>\n",
       "      <th>0</th>\n",
       "      <td>b128</td>\n",
       "      <td>Capomulin</td>\n",
       "      <td>Female</td>\n",
       "      <td>9</td>\n",
       "      <td>22</td>\n",
       "      <td>0</td>\n",
       "      <td>45.000000</td>\n",
       "      <td>0</td>\n",
       "    </tr>\n",
       "    <tr>\n",
       "      <th>1</th>\n",
       "      <td>b128</td>\n",
       "      <td>Capomulin</td>\n",
       "      <td>Female</td>\n",
       "      <td>9</td>\n",
       "      <td>22</td>\n",
       "      <td>5</td>\n",
       "      <td>45.651331</td>\n",
       "      <td>0</td>\n",
       "    </tr>\n",
       "    <tr>\n",
       "      <th>2</th>\n",
       "      <td>b128</td>\n",
       "      <td>Capomulin</td>\n",
       "      <td>Female</td>\n",
       "      <td>9</td>\n",
       "      <td>22</td>\n",
       "      <td>10</td>\n",
       "      <td>43.270852</td>\n",
       "      <td>0</td>\n",
       "    </tr>\n",
       "    <tr>\n",
       "      <th>3</th>\n",
       "      <td>b128</td>\n",
       "      <td>Capomulin</td>\n",
       "      <td>Female</td>\n",
       "      <td>9</td>\n",
       "      <td>22</td>\n",
       "      <td>15</td>\n",
       "      <td>43.784893</td>\n",
       "      <td>0</td>\n",
       "    </tr>\n",
       "    <tr>\n",
       "      <th>4</th>\n",
       "      <td>b128</td>\n",
       "      <td>Capomulin</td>\n",
       "      <td>Female</td>\n",
       "      <td>9</td>\n",
       "      <td>22</td>\n",
       "      <td>20</td>\n",
       "      <td>42.731552</td>\n",
       "      <td>0</td>\n",
       "    </tr>\n",
       "  </tbody>\n",
       "</table>\n",
       "</div>"
      ],
      "text/plain": [
       "  Mouse ID Drug Regimen     Sex  Age_months  Weight (g)  Timepoint  \\\n",
       "0     b128    Capomulin  Female           9          22          0   \n",
       "1     b128    Capomulin  Female           9          22          5   \n",
       "2     b128    Capomulin  Female           9          22         10   \n",
       "3     b128    Capomulin  Female           9          22         15   \n",
       "4     b128    Capomulin  Female           9          22         20   \n",
       "\n",
       "   Tumor Volume (mm3)  Metastatic Sites  \n",
       "0           45.000000                 0  \n",
       "1           45.651331                 0  \n",
       "2           43.270852                 0  \n",
       "3           43.784893                 0  \n",
       "4           42.731552                 0  "
      ]
     },
     "execution_count": 13,
     "metadata": {},
     "output_type": "execute_result"
    }
   ],
   "source": [
    "# Combine the data into a single dataset\n",
    "merge_df = pd.merge(mouse_metadata, study_results, how=\"right\", on=[\"Mouse ID\"])\n",
    "\n",
    "# Display the data table for preview\n",
    "merge_df.head()"
   ]
  },
  {
   "cell_type": "code",
   "execution_count": 14,
   "metadata": {},
   "outputs": [
    {
     "data": {
      "text/plain": [
       "Mouse ID              1880\n",
       "Drug Regimen          1880\n",
       "Sex                   1880\n",
       "Age_months            1880\n",
       "Weight (g)            1880\n",
       "Timepoint             1880\n",
       "Tumor Volume (mm3)    1880\n",
       "Metastatic Sites      1880\n",
       "dtype: int64"
      ]
     },
     "execution_count": 14,
     "metadata": {},
     "output_type": "execute_result"
    }
   ],
   "source": [
    "# Verify number of rows in merged df equals that in study results df\n",
    "merge_df.count()"
   ]
  },
  {
   "cell_type": "code",
   "execution_count": 15,
   "metadata": {},
   "outputs": [
    {
     "data": {
      "text/plain": [
       "248"
      ]
     },
     "execution_count": 15,
     "metadata": {},
     "output_type": "execute_result"
    }
   ],
   "source": [
    "# Check number of mice in merged df\n",
    "len(pd.unique(merge_df[\"Mouse ID\"]))"
   ]
  },
  {
   "cell_type": "markdown",
   "metadata": {},
   "source": [
    "# Summary Statistics for Tumor Volume"
   ]
  },
  {
   "cell_type": "code",
   "execution_count": 16,
   "metadata": {},
   "outputs": [
    {
     "data": {
      "text/html": [
       "<div>\n",
       "<style scoped>\n",
       "    .dataframe tbody tr th:only-of-type {\n",
       "        vertical-align: middle;\n",
       "    }\n",
       "\n",
       "    .dataframe tbody tr th {\n",
       "        vertical-align: top;\n",
       "    }\n",
       "\n",
       "    .dataframe thead th {\n",
       "        text-align: right;\n",
       "    }\n",
       "</style>\n",
       "<table border=\"1\" class=\"dataframe\">\n",
       "  <thead>\n",
       "    <tr style=\"text-align: right;\">\n",
       "      <th></th>\n",
       "      <th>Average Tumor Volume (mm3)</th>\n",
       "      <th>Median Tumor Volume (mm3)</th>\n",
       "      <th>Variance of Tumor Volume (mm3)</th>\n",
       "      <th>Standard Dev of Tumor Volume (mm3)</th>\n",
       "      <th>Standard Error of the Mean of Tumor Volume (mm3)</th>\n",
       "    </tr>\n",
       "    <tr>\n",
       "      <th>Drug Regimen</th>\n",
       "      <th></th>\n",
       "      <th></th>\n",
       "      <th></th>\n",
       "      <th></th>\n",
       "      <th></th>\n",
       "    </tr>\n",
       "  </thead>\n",
       "  <tbody>\n",
       "    <tr>\n",
       "      <th>Capomulin</th>\n",
       "      <td>40.675741</td>\n",
       "      <td>41.557809</td>\n",
       "      <td>24.947764</td>\n",
       "      <td>4.994774</td>\n",
       "      <td>0.329346</td>\n",
       "    </tr>\n",
       "    <tr>\n",
       "      <th>Ceftamin</th>\n",
       "      <td>52.591172</td>\n",
       "      <td>51.776157</td>\n",
       "      <td>39.290177</td>\n",
       "      <td>6.268188</td>\n",
       "      <td>0.469821</td>\n",
       "    </tr>\n",
       "    <tr>\n",
       "      <th>Infubinol</th>\n",
       "      <td>52.884795</td>\n",
       "      <td>51.820584</td>\n",
       "      <td>43.128684</td>\n",
       "      <td>6.567243</td>\n",
       "      <td>0.492236</td>\n",
       "    </tr>\n",
       "    <tr>\n",
       "      <th>Ketapril</th>\n",
       "      <td>55.235638</td>\n",
       "      <td>53.698743</td>\n",
       "      <td>68.553577</td>\n",
       "      <td>8.279709</td>\n",
       "      <td>0.603860</td>\n",
       "    </tr>\n",
       "    <tr>\n",
       "      <th>Naftisol</th>\n",
       "      <td>54.331565</td>\n",
       "      <td>52.509285</td>\n",
       "      <td>66.173479</td>\n",
       "      <td>8.134708</td>\n",
       "      <td>0.596466</td>\n",
       "    </tr>\n",
       "    <tr>\n",
       "      <th>Placebo</th>\n",
       "      <td>54.033581</td>\n",
       "      <td>52.288934</td>\n",
       "      <td>61.168083</td>\n",
       "      <td>7.821003</td>\n",
       "      <td>0.581331</td>\n",
       "    </tr>\n",
       "    <tr>\n",
       "      <th>Propriva</th>\n",
       "      <td>52.320930</td>\n",
       "      <td>50.446266</td>\n",
       "      <td>43.852013</td>\n",
       "      <td>6.622085</td>\n",
       "      <td>0.544332</td>\n",
       "    </tr>\n",
       "    <tr>\n",
       "      <th>Ramicane</th>\n",
       "      <td>40.216745</td>\n",
       "      <td>40.673236</td>\n",
       "      <td>23.486704</td>\n",
       "      <td>4.846308</td>\n",
       "      <td>0.320955</td>\n",
       "    </tr>\n",
       "    <tr>\n",
       "      <th>Stelasyn</th>\n",
       "      <td>54.233149</td>\n",
       "      <td>52.431737</td>\n",
       "      <td>59.450562</td>\n",
       "      <td>7.710419</td>\n",
       "      <td>0.573111</td>\n",
       "    </tr>\n",
       "    <tr>\n",
       "      <th>Zoniferol</th>\n",
       "      <td>53.236507</td>\n",
       "      <td>51.818479</td>\n",
       "      <td>48.533355</td>\n",
       "      <td>6.966589</td>\n",
       "      <td>0.516398</td>\n",
       "    </tr>\n",
       "  </tbody>\n",
       "</table>\n",
       "</div>"
      ],
      "text/plain": [
       "              Average Tumor Volume (mm3)  Median Tumor Volume (mm3)  \\\n",
       "Drug Regimen                                                          \n",
       "Capomulin                      40.675741                  41.557809   \n",
       "Ceftamin                       52.591172                  51.776157   \n",
       "Infubinol                      52.884795                  51.820584   \n",
       "Ketapril                       55.235638                  53.698743   \n",
       "Naftisol                       54.331565                  52.509285   \n",
       "Placebo                        54.033581                  52.288934   \n",
       "Propriva                       52.320930                  50.446266   \n",
       "Ramicane                       40.216745                  40.673236   \n",
       "Stelasyn                       54.233149                  52.431737   \n",
       "Zoniferol                      53.236507                  51.818479   \n",
       "\n",
       "              Variance of Tumor Volume (mm3)  \\\n",
       "Drug Regimen                                   \n",
       "Capomulin                          24.947764   \n",
       "Ceftamin                           39.290177   \n",
       "Infubinol                          43.128684   \n",
       "Ketapril                           68.553577   \n",
       "Naftisol                           66.173479   \n",
       "Placebo                            61.168083   \n",
       "Propriva                           43.852013   \n",
       "Ramicane                           23.486704   \n",
       "Stelasyn                           59.450562   \n",
       "Zoniferol                          48.533355   \n",
       "\n",
       "              Standard Dev of Tumor Volume (mm3)  \\\n",
       "Drug Regimen                                       \n",
       "Capomulin                               4.994774   \n",
       "Ceftamin                                6.268188   \n",
       "Infubinol                               6.567243   \n",
       "Ketapril                                8.279709   \n",
       "Naftisol                                8.134708   \n",
       "Placebo                                 7.821003   \n",
       "Propriva                                6.622085   \n",
       "Ramicane                                4.846308   \n",
       "Stelasyn                                7.710419   \n",
       "Zoniferol                               6.966589   \n",
       "\n",
       "              Standard Error of the Mean of Tumor Volume (mm3)  \n",
       "Drug Regimen                                                    \n",
       "Capomulin                                             0.329346  \n",
       "Ceftamin                                              0.469821  \n",
       "Infubinol                                             0.492236  \n",
       "Ketapril                                              0.603860  \n",
       "Naftisol                                              0.596466  \n",
       "Placebo                                               0.581331  \n",
       "Propriva                                              0.544332  \n",
       "Ramicane                                              0.320955  \n",
       "Stelasyn                                              0.573111  \n",
       "Zoniferol                                             0.516398  "
      ]
     },
     "execution_count": 16,
     "metadata": {},
     "output_type": "execute_result"
    }
   ],
   "source": [
    "# Generate a summary statistics table of mean, median, variance, standard deviation, and SEM of the tumor volume for each regimen (groupby)\n",
    "regimen_mean = merge_df.groupby(['Drug Regimen'])[\"Tumor Volume (mm3)\"].mean()\n",
    "regimen_median = merge_df.groupby(['Drug Regimen'])[\"Tumor Volume (mm3)\"].median()\n",
    "regimen_var = merge_df.groupby(['Drug Regimen'])[\"Tumor Volume (mm3)\"].var()\n",
    "regimen_std = merge_df.groupby(['Drug Regimen'])[\"Tumor Volume (mm3)\"].std()\n",
    "regimen_sem = merge_df.groupby(['Drug Regimen'])[\"Tumor Volume (mm3)\"].sem()\n",
    "\n",
    "summary_tumor_df = pd.DataFrame({\"Average Tumor Volume (mm3)\": regimen_mean,\n",
    "                                  \"Median Tumor Volume (mm3)\": regimen_median,\n",
    "                                  \"Variance of Tumor Volume (mm3)\": regimen_var,\n",
    "                                  \"Standard Dev of Tumor Volume (mm3)\": regimen_std,\n",
    "                                  \"Standard Error of the Mean of Tumor Volume (mm3)\": regimen_sem})\n",
    "\n",
    "# Display summary table\n",
    "summary_tumor_df"
   ]
  },
  {
   "cell_type": "code",
   "execution_count": 17,
   "metadata": {},
   "outputs": [],
   "source": [
    "# Generate a summary statistics table of mean, median, variance, standard deviation, and SEM of the tumor volume for each regimen\n",
    "\n",
    "# Using the aggregation method, produce the same summary statistics in a single line\n"
   ]
  },
  {
   "cell_type": "markdown",
   "metadata": {},
   "source": [
    "# Bar and Pie Charts"
   ]
  },
  {
   "cell_type": "markdown",
   "metadata": {},
   "source": [
    "## Measurement Count by Drug Regimen (Pandas)"
   ]
  },
  {
   "cell_type": "code",
   "execution_count": 18,
   "metadata": {},
   "outputs": [
    {
     "data": {
      "text/html": [
       "<div>\n",
       "<style scoped>\n",
       "    .dataframe tbody tr th:only-of-type {\n",
       "        vertical-align: middle;\n",
       "    }\n",
       "\n",
       "    .dataframe tbody tr th {\n",
       "        vertical-align: top;\n",
       "    }\n",
       "\n",
       "    .dataframe thead th {\n",
       "        text-align: right;\n",
       "    }\n",
       "</style>\n",
       "<table border=\"1\" class=\"dataframe\">\n",
       "  <thead>\n",
       "    <tr style=\"text-align: right;\">\n",
       "      <th></th>\n",
       "      <th>Measurement Count</th>\n",
       "    </tr>\n",
       "    <tr>\n",
       "      <th>Drug Regimen</th>\n",
       "      <th></th>\n",
       "    </tr>\n",
       "  </thead>\n",
       "  <tbody>\n",
       "    <tr>\n",
       "      <th>Capomulin</th>\n",
       "      <td>230</td>\n",
       "    </tr>\n",
       "    <tr>\n",
       "      <th>Ceftamin</th>\n",
       "      <td>178</td>\n",
       "    </tr>\n",
       "    <tr>\n",
       "      <th>Infubinol</th>\n",
       "      <td>178</td>\n",
       "    </tr>\n",
       "    <tr>\n",
       "      <th>Ketapril</th>\n",
       "      <td>188</td>\n",
       "    </tr>\n",
       "    <tr>\n",
       "      <th>Naftisol</th>\n",
       "      <td>186</td>\n",
       "    </tr>\n",
       "    <tr>\n",
       "      <th>Placebo</th>\n",
       "      <td>181</td>\n",
       "    </tr>\n",
       "    <tr>\n",
       "      <th>Propriva</th>\n",
       "      <td>148</td>\n",
       "    </tr>\n",
       "    <tr>\n",
       "      <th>Ramicane</th>\n",
       "      <td>228</td>\n",
       "    </tr>\n",
       "    <tr>\n",
       "      <th>Stelasyn</th>\n",
       "      <td>181</td>\n",
       "    </tr>\n",
       "    <tr>\n",
       "      <th>Zoniferol</th>\n",
       "      <td>182</td>\n",
       "    </tr>\n",
       "  </tbody>\n",
       "</table>\n",
       "</div>"
      ],
      "text/plain": [
       "              Measurement Count\n",
       "Drug Regimen                   \n",
       "Capomulin                   230\n",
       "Ceftamin                    178\n",
       "Infubinol                   178\n",
       "Ketapril                    188\n",
       "Naftisol                    186\n",
       "Placebo                     181\n",
       "Propriva                    148\n",
       "Ramicane                    228\n",
       "Stelasyn                    181\n",
       "Zoniferol                   182"
      ]
     },
     "execution_count": 18,
     "metadata": {},
     "output_type": "execute_result"
    }
   ],
   "source": [
    "# Generate a bar plot showing the total number of measurements taken on each drug regimen using pandas.\n",
    "\n",
    "# Create a count series by regimen\n",
    "regimen_measure_count = merge_df.groupby(['Drug Regimen'])[\"Mouse ID\"].count()\n",
    "\n",
    "# Create df from count series (if needed)\n",
    "regimen_measure_count_df = pd.DataFrame({\"Measurement Count\": regimen_measure_count})\n",
    "\n",
    "# Display count df\n",
    "regimen_measure_count_df"
   ]
  },
  {
   "cell_type": "code",
   "execution_count": 19,
   "metadata": {},
   "outputs": [
    {
     "data": {
      "text/plain": [
       "Text(0.5, 1.0, 'Total Study Measure Count by Drug Regimen')"
      ]
     },
     "execution_count": 19,
     "metadata": {},
     "output_type": "execute_result"
    },
    {
     "data": {
      "image/png": "[encoded data removed]",
      "text/plain": [
       "<Figure size 432x288 with 1 Axes>"
      ]
     },
     "metadata": {
      "needs_background": "light"
     },
     "output_type": "display_data"
    }
   ],
   "source": [
    "# Create a bar plot using pandas\n",
    "regimen_count_bar = regimen_measure_count.plot(kind='bar')\n",
    "\n",
    "# Label y axis and add title\n",
    "regimen_count_bar.set_ylabel(\"Measure Count\")\n",
    "regimen_count_bar.set_title(\"Total Study Measure Count by Drug Regimen\")"
   ]
  },
  {
   "cell_type": "markdown",
   "metadata": {},
   "source": [
    "## Measurement Count by Drug Regimen (Matplotlib)"
   ]
  },
  {
   "cell_type": "code",
   "execution_count": 20,
   "metadata": {},
   "outputs": [
    {
     "data": {
      "image/png": "[encoded data removed]",
      "text/plain": [
       "<Figure size 432x288 with 1 Axes>"
      ]
     },
     "metadata": {
      "needs_background": "light"
     },
     "output_type": "display_data"
    }
   ],
   "source": [
    "# Generate a bar plot showing the total number of measurements taken on each drug regimen using pyplot.\n",
    "\n",
    "# Establish x-axis length\n",
    "x_axis = np.arange(len(regimen_measure_count))\n",
    "\n",
    "# Create plot with x and y values\n",
    "plt.bar(x_axis, regimen_measure_count, color=\"b\", align=\"center\")\n",
    "\n",
    "# Create groupby series from which to pull groupby keys (drug regimens)\n",
    "regimen_keys = merge_df.groupby(['Drug Regimen'])\n",
    "\n",
    "# Pull groupby keys\n",
    "measure_count_keys = regimen_keys.groups.keys()\n",
    "\n",
    "# Set tick locations, x axis labels as groupby keys and make labels vertical\n",
    "tick_locations = [value for value in x_axis]\n",
    "plt.xticks(tick_locations, measure_count_keys, rotation = 90)\n",
    "\n",
    "# Set chart labels\n",
    "plt.title(\"Total Study Measure Count by Drug Regimen\")\n",
    "plt.xlabel(\"Drug Regimen\")\n",
    "plt.ylabel(\"Measure Count\")\n",
    "\n",
    "# Display chart\n",
    "plt.show()"
   ]
  },
  {
   "cell_type": "markdown",
   "metadata": {},
   "source": [
    "## Mouse Sex (Pandas)"
   ]
  },
  {
   "cell_type": "code",
   "execution_count": 21,
   "metadata": {},
   "outputs": [
    {
     "data": {
      "image/png": "[encoded data removed]",
      "text/plain": [
       "<Figure size 432x288 with 1 Axes>"
      ]
     },
     "metadata": {},
     "output_type": "display_data"
    }
   ],
   "source": [
    "# Generate a pie plot showing the distribution of female versus male mice using pandas\n",
    "\n",
    "# Drop incomplete mouse from mouse metadata df\n",
    "for value in unique_drop_rows:\n",
    "    mouse_metadata.drop(mouse_metadata[mouse_metadata['Mouse ID'] == value].index, inplace = True)\n",
    "\n",
    "# Create a count series by gender\n",
    "mouse_sex_count = mouse_metadata.groupby(['Sex'])[\"Mouse ID\"].count()\n",
    "\n",
    "# Create a pie plot using pandas\n",
    "sex_count_pie = mouse_sex_count.plot(kind='pie')\n",
    "\n",
    "# Set title and remove default y axis label\n",
    "sex_count_pie.set_title(\"Sex of Study Mice\")\n",
    "sex_count_pie.set_ylabel(\"\")\n",
    "\n",
    "# Display pie chart\n",
    "plt.show()"
   ]
  },
  {
   "cell_type": "markdown",
   "metadata": {},
   "source": [
    "## Mouse Sex (Matplotlib)"
   ]
  },
  {
   "cell_type": "code",
   "execution_count": 22,
   "metadata": {},
   "outputs": [
    {
     "data": {
      "image/png": "[encoded data removed]",
      "text/plain": [
       "<Figure size 432x288 with 1 Axes>"
      ]
     },
     "metadata": {},
     "output_type": "display_data"
    }
   ],
   "source": [
    "# Generate a pie plot showing the distribution of female versus male mice using pyplot\n",
    "\n",
    "# Create groupby series from which to pull groupby keys (drug regimens)\n",
    "sex_keys = mouse_metadata.groupby(['Sex'])\n",
    "\n",
    "# Pull groupby keys\n",
    "sex_count_keys = sex_keys.groups.keys()\n",
    "\n",
    "# Create a pie chart using Matplotlib\n",
    "plt.pie(mouse_sex_count, labels=sex_count_keys, \n",
    "        autopct=\"\", shadow=True)\n",
    "\n",
    "# Create equal axes for round circle\n",
    "plt.axis(\"equal\")\n",
    "\n",
    "# Set title\n",
    "plt.title(\"Sex of Study Mice\")\n",
    "\n",
    "# Display the pie chart\n",
    "plt.show()"
   ]
  },
  {
   "cell_type": "markdown",
   "metadata": {},
   "source": [
    "# Quartiles, Outliers and Boxplots"
   ]
  },
  {
   "cell_type": "code",
   "execution_count": 23,
   "metadata": {},
   "outputs": [
    {
     "data": {
      "text/html": [
       "<div>\n",
       "<style scoped>\n",
       "    .dataframe tbody tr th:only-of-type {\n",
       "        vertical-align: middle;\n",
       "    }\n",
       "\n",
       "    .dataframe tbody tr th {\n",
       "        vertical-align: top;\n",
       "    }\n",
       "\n",
       "    .dataframe thead th {\n",
       "        text-align: right;\n",
       "    }\n",
       "</style>\n",
       "<table border=\"1\" class=\"dataframe\">\n",
       "  <thead>\n",
       "    <tr style=\"text-align: right;\">\n",
       "      <th></th>\n",
       "      <th>Mouse ID</th>\n",
       "      <th>Final Timepoint</th>\n",
       "      <th>Drug Regimen</th>\n",
       "      <th>Sex</th>\n",
       "      <th>Age_months</th>\n",
       "      <th>Weight (g)</th>\n",
       "      <th>Timepoint</th>\n",
       "      <th>Tumor Volume (mm3)</th>\n",
       "      <th>Metastatic Sites</th>\n",
       "    </tr>\n",
       "  </thead>\n",
       "  <tbody>\n",
       "    <tr>\n",
       "      <th>0</th>\n",
       "      <td>a203</td>\n",
       "      <td>45</td>\n",
       "      <td>Infubinol</td>\n",
       "      <td>Female</td>\n",
       "      <td>20</td>\n",
       "      <td>23</td>\n",
       "      <td>45</td>\n",
       "      <td>67.973419</td>\n",
       "      <td>2</td>\n",
       "    </tr>\n",
       "    <tr>\n",
       "      <th>1</th>\n",
       "      <td>a251</td>\n",
       "      <td>45</td>\n",
       "      <td>Infubinol</td>\n",
       "      <td>Female</td>\n",
       "      <td>21</td>\n",
       "      <td>25</td>\n",
       "      <td>45</td>\n",
       "      <td>65.525743</td>\n",
       "      <td>1</td>\n",
       "    </tr>\n",
       "    <tr>\n",
       "      <th>3</th>\n",
       "      <td>a275</td>\n",
       "      <td>45</td>\n",
       "      <td>Ceftamin</td>\n",
       "      <td>Female</td>\n",
       "      <td>20</td>\n",
       "      <td>28</td>\n",
       "      <td>45</td>\n",
       "      <td>62.999356</td>\n",
       "      <td>3</td>\n",
       "    </tr>\n",
       "    <tr>\n",
       "      <th>6</th>\n",
       "      <td>a411</td>\n",
       "      <td>45</td>\n",
       "      <td>Ramicane</td>\n",
       "      <td>Male</td>\n",
       "      <td>3</td>\n",
       "      <td>22</td>\n",
       "      <td>45</td>\n",
       "      <td>38.407618</td>\n",
       "      <td>1</td>\n",
       "    </tr>\n",
       "    <tr>\n",
       "      <th>7</th>\n",
       "      <td>a444</td>\n",
       "      <td>45</td>\n",
       "      <td>Ramicane</td>\n",
       "      <td>Female</td>\n",
       "      <td>10</td>\n",
       "      <td>25</td>\n",
       "      <td>45</td>\n",
       "      <td>43.047543</td>\n",
       "      <td>0</td>\n",
       "    </tr>\n",
       "    <tr>\n",
       "      <th>...</th>\n",
       "      <td>...</td>\n",
       "      <td>...</td>\n",
       "      <td>...</td>\n",
       "      <td>...</td>\n",
       "      <td>...</td>\n",
       "      <td>...</td>\n",
       "      <td>...</td>\n",
       "      <td>...</td>\n",
       "      <td>...</td>\n",
       "    </tr>\n",
       "    <tr>\n",
       "      <th>238</th>\n",
       "      <td>y769</td>\n",
       "      <td>45</td>\n",
       "      <td>Ceftamin</td>\n",
       "      <td>Female</td>\n",
       "      <td>6</td>\n",
       "      <td>27</td>\n",
       "      <td>45</td>\n",
       "      <td>68.594745</td>\n",
       "      <td>4</td>\n",
       "    </tr>\n",
       "    <tr>\n",
       "      <th>239</th>\n",
       "      <td>y793</td>\n",
       "      <td>45</td>\n",
       "      <td>Capomulin</td>\n",
       "      <td>Male</td>\n",
       "      <td>17</td>\n",
       "      <td>17</td>\n",
       "      <td>45</td>\n",
       "      <td>31.896238</td>\n",
       "      <td>2</td>\n",
       "    </tr>\n",
       "    <tr>\n",
       "      <th>240</th>\n",
       "      <td>y865</td>\n",
       "      <td>45</td>\n",
       "      <td>Ceftamin</td>\n",
       "      <td>Male</td>\n",
       "      <td>23</td>\n",
       "      <td>26</td>\n",
       "      <td>45</td>\n",
       "      <td>64.729837</td>\n",
       "      <td>3</td>\n",
       "    </tr>\n",
       "    <tr>\n",
       "      <th>244</th>\n",
       "      <td>z578</td>\n",
       "      <td>45</td>\n",
       "      <td>Ramicane</td>\n",
       "      <td>Male</td>\n",
       "      <td>11</td>\n",
       "      <td>16</td>\n",
       "      <td>45</td>\n",
       "      <td>30.638696</td>\n",
       "      <td>0</td>\n",
       "    </tr>\n",
       "    <tr>\n",
       "      <th>245</th>\n",
       "      <td>z581</td>\n",
       "      <td>45</td>\n",
       "      <td>Infubinol</td>\n",
       "      <td>Female</td>\n",
       "      <td>24</td>\n",
       "      <td>25</td>\n",
       "      <td>45</td>\n",
       "      <td>62.754451</td>\n",
       "      <td>3</td>\n",
       "    </tr>\n",
       "  </tbody>\n",
       "</table>\n",
       "<p>100 rows × 9 columns</p>\n",
       "</div>"
      ],
      "text/plain": [
       "    Mouse ID  Final Timepoint Drug Regimen     Sex  Age_months  Weight (g)  \\\n",
       "0       a203               45    Infubinol  Female          20          23   \n",
       "1       a251               45    Infubinol  Female          21          25   \n",
       "3       a275               45     Ceftamin  Female          20          28   \n",
       "6       a411               45     Ramicane    Male           3          22   \n",
       "7       a444               45     Ramicane  Female          10          25   \n",
       "..       ...              ...          ...     ...         ...         ...   \n",
       "238     y769               45     Ceftamin  Female           6          27   \n",
       "239     y793               45    Capomulin    Male          17          17   \n",
       "240     y865               45     Ceftamin    Male          23          26   \n",
       "244     z578               45     Ramicane    Male          11          16   \n",
       "245     z581               45    Infubinol  Female          24          25   \n",
       "\n",
       "     Timepoint  Tumor Volume (mm3)  Metastatic Sites  \n",
       "0           45           67.973419                 2  \n",
       "1           45           65.525743                 1  \n",
       "3           45           62.999356                 3  \n",
       "6           45           38.407618                 1  \n",
       "7           45           43.047543                 0  \n",
       "..         ...                 ...               ...  \n",
       "238         45           68.594745                 4  \n",
       "239         45           31.896238                 2  \n",
       "240         45           64.729837                 3  \n",
       "244         45           30.638696                 0  \n",
       "245         45           62.754451                 3  \n",
       "\n",
       "[100 rows x 9 columns]"
      ]
     },
     "execution_count": 23,
     "metadata": {},
     "output_type": "execute_result"
    }
   ],
   "source": [
    "# Calculate the final tumor volume of each mouse across four of the treatment regimens:  \n",
    "# Capomulin, Ramicane, Infubinol, and Ceftamin\n",
    "\n",
    "# THIS INSTRUCTION IS NOT CLEAR - HOW DO WE KNOW THAT A MOUSE COMPLETED THE STUDY IF ITS GREATEST TIMEPOINT IS LESS THAN 45?\n",
    "# CHOSE TO PROCEED WITH COMMENTED PROMPTS RATHER THAN MY OWN INTERPRETATION OF HOW THIS WOULD BE DONE\n",
    "\n",
    "# METHOD 1\n",
    "# Pull final timepoint rows for each drug regimen\n",
    "# final_promising_cap_df = merge_df.loc[(merge_df[\"Drug Regimen\"] == \"Capomulin\") & (merge_df[\"Timepoint\"] == 45), :]\n",
    "# final_promising_ram_df = merge_df.loc[(merge_df[\"Drug Regimen\"] == \"Ramicane\") & (merge_df[\"Timepoint\"] == 45), :]\n",
    "# final_promising_inf_df = merge_df.loc[(merge_df[\"Drug Regimen\"] == \"Infubinol\") & (merge_df[\"Timepoint\"] == 45), :]\n",
    "# final_promising_cef_df = merge_df.loc[(merge_df[\"Drug Regimen\"] == \"Ceftamin\") & (merge_df[\"Timepoint\"] == 45), :]\n",
    "\n",
    "# Concatenate four df's into one\n",
    "# final_promising_df = pd.concat([final_promising_cap_df, final_promising_ram_df, final_promising_inf_df, final_promising_cef_df], ignore_index=True)\n",
    "\n",
    "# Eliminate unnecessary columns\n",
    "# clean_final_promising_df = final_promising_df.loc[:, [\"Mouse ID\", \"Drug Regimen\", \"Timepoint\", \"Tumor Volume (mm3)\"]]\n",
    "\n",
    "# METHOD 2\n",
    "# Pull greatest timepoint for each mouse using max function in .groupby\n",
    "max_timepoint = merge_df.groupby(['Mouse ID'])[\"Timepoint\"].max()\n",
    "\n",
    "# Create df from max timepoint series\n",
    "max_timepoint_df = pd.DataFrame({\"Final Timepoint\": max_timepoint})\n",
    "\n",
    "# Merge max timepoint df with the original merged df to match with tumor volume\n",
    "merge_timepoint_df = pd.merge(max_timepoint_df, merge_df, how=\"left\", left_on=['Mouse ID','Final Timepoint'], right_on = ['Mouse ID','Timepoint'])\n",
    "\n",
    "# Eliminate unpromising drug regimens\n",
    "final_promising_df = merge_timepoint_df.loc[(merge_timepoint_df[\"Drug Regimen\"] == \"Capomulin\") | (merge_timepoint_df[\"Drug Regimen\"] == \"Ramicane\") | (merge_timepoint_df[\"Drug Regimen\"] == \"Infubinol\") | (merge_timepoint_df[\"Drug Regimen\"] == \"Ceftamin\"), :]\n",
    "final_promising_df"
   ]
  },
  {
   "cell_type": "markdown",
   "metadata": {},
   "source": [
    "## Tumor Volume Outliers, Mathematical"
   ]
  },
  {
   "cell_type": "code",
   "execution_count": 24,
   "metadata": {},
   "outputs": [
    {
     "name": "stdout",
     "output_type": "stream",
     "text": [
      "Lower quartile: 37.187743802499995\n",
      "Upper quartile: 59.930261755000004\n",
      "Interquartile range: 22.74251795250001\n",
      "Lower bound: 3.0739668737499812\n",
      "Upper bound: 94.04403868375002\n"
     ]
    },
    {
     "data": {
      "text/html": [
       "<div>\n",
       "<style scoped>\n",
       "    .dataframe tbody tr th:only-of-type {\n",
       "        vertical-align: middle;\n",
       "    }\n",
       "\n",
       "    .dataframe tbody tr th {\n",
       "        vertical-align: top;\n",
       "    }\n",
       "\n",
       "    .dataframe thead th {\n",
       "        text-align: right;\n",
       "    }\n",
       "</style>\n",
       "<table border=\"1\" class=\"dataframe\">\n",
       "  <thead>\n",
       "    <tr style=\"text-align: right;\">\n",
       "      <th></th>\n",
       "      <th>Mouse ID</th>\n",
       "      <th>Final Timepoint</th>\n",
       "      <th>Drug Regimen</th>\n",
       "      <th>Sex</th>\n",
       "      <th>Age_months</th>\n",
       "      <th>Weight (g)</th>\n",
       "      <th>Timepoint</th>\n",
       "      <th>Tumor Volume (mm3)</th>\n",
       "      <th>Metastatic Sites</th>\n",
       "    </tr>\n",
       "  </thead>\n",
       "  <tbody>\n",
       "  </tbody>\n",
       "</table>\n",
       "</div>"
      ],
      "text/plain": [
       "Empty DataFrame\n",
       "Columns: [Mouse ID, Final Timepoint, Drug Regimen, Sex, Age_months, Weight (g), Timepoint, Tumor Volume (mm3), Metastatic Sites]\n",
       "Index: []"
      ]
     },
     "execution_count": 24,
     "metadata": {},
     "output_type": "execute_result"
    }
   ],
   "source": [
    "# Sort the df containing final timepoints only for promising drug regimens\n",
    "final_promising_df.sort_values(by='Tumor Volume (mm3)', ascending=True)\n",
    "\n",
    "# Establish quartiles and interquartile range\n",
    "quartiles = final_promising_df['Tumor Volume (mm3)'].quantile([.25,.5,.75])\n",
    "lowerq = quartiles[0.25]\n",
    "upperq = quartiles[0.75]\n",
    "iqr = upperq-lowerq\n",
    "\n",
    "# Establish upper and lower bounds to find any outliers\n",
    "lower_bound = lowerq - (1.5*iqr)\n",
    "upper_bound = upperq + (1.5*iqr)\n",
    "\n",
    "# Print these summary stats for easy viewing\n",
    "print(f\"Lower quartile: {lowerq}\")\n",
    "print(f\"Upper quartile: {upperq}\")\n",
    "print(f\"Interquartile range: {iqr}\")\n",
    "print(f\"Lower bound: {lower_bound}\")\n",
    "print(f\"Upper bound: {upper_bound}\")\n",
    "\n",
    "# Find outliers by narrowing df by tumor volume\n",
    "outlier_df = final_promising_df.loc[(final_promising_df['Tumor Volume (mm3)'] < lower_bound) | (final_promising_df['Tumor Volume (mm3)'] > upper_bound)]\n",
    "outlier_df\n",
    "\n",
    "# No outliers in tumor volume appear to be present"
   ]
  },
  {
   "cell_type": "markdown",
   "metadata": {},
   "source": [
    "## Tumor Volume Outliers, Graphical (By Drug Regimen)"
   ]
  },
  {
   "cell_type": "code",
   "execution_count": 28,
   "metadata": {},
   "outputs": [
    {
     "data": {
      "image/png": "[encoded data removed]",
      "text/plain": [
       "<Figure size 432x288 with 1 Axes>"
      ]
     },
     "metadata": {
      "needs_background": "light"
     },
     "output_type": "display_data"
    }
   ],
   "source": [
    "# These instructions are generally very confusing without a visual to support what is meant by the text description.\n",
    "# The instructions for the mathematical calculation of outliers uses the word \"across\" regimens.\n",
    "# So, above, I calculated outliers across regimens.\n",
    "# However, for the box and whisker plot, it asks for 4 plots (apparently to determine outliers \"BY\" regimen).\n",
    "# I'm not sure what is intended so have done the 4 plots but left the mathematical calculation \"across\" regimens.\n",
    "\n",
    "# Create list for each drug regimen to hold tumor volumes\n",
    "cap = []\n",
    "ram = []\n",
    "inf = []\n",
    "cef = []\n",
    "\n",
    "# Append tumor volumes to each drug regimen list\n",
    "for index, row in final_promising_df.iterrows():\n",
    "    if row[\"Drug Regimen\"] == \"Capomulin\":\n",
    "        cap.append(row[\"Tumor Volume (mm3)\"])\n",
    "    if row[\"Drug Regimen\"] == \"Ramicane\":\n",
    "        ram.append(row[\"Tumor Volume (mm3)\"])\n",
    "    if row[\"Drug Regimen\"] == \"Infubinol\":\n",
    "        inf.append(row[\"Tumor Volume (mm3)\"])\n",
    "    if row[\"Drug Regimen\"] == \"Ceftamin\":\n",
    "        cef.append(row[\"Tumor Volume (mm3)\"])\n",
    "    \n",
    "# Sort the drug regimen tumor volume lists\n",
    "cap.sort()\n",
    "ram.sort()\n",
    "inf.sort()\n",
    "cef.sort()\n",
    "\n",
    "# Format the appearance of outlier circles on the plot\n",
    "flierprops = dict(marker='o', markerfacecolor='red', markersize=10,\n",
    "                  markeredgecolor='red')\n",
    "\n",
    "# Assign drug regimen labels to plot rather than numerical values\n",
    "tick_locations = [1, 2, 3, 4]\n",
    "boxplot_labels = [\"Capomulin\", \"Ramicane\", \"Infubinol\", \"Ceftamin\"]\n",
    "\n",
    "# Create the graph with all 4 plots\n",
    "data = [cap, ram, inf, cef]\n",
    "fig1, ax1 = plt.subplots()\n",
    "ax1.set_title('Final Tumor Volumes Across 4 Most Promising Drug Regimens')\n",
    "ax1.set_ylabel('Tumor Volume (mm3)')\n",
    "ax1.boxplot(data, flierprops=flierprops)\n",
    "plt.xticks(tick_locations, boxplot_labels)\n",
    "plt.ylim(0, 100)\n",
    "plt.show()\n",
    "\n",
    "# When calculating outliers by regimen rather than across regiments, it appears Infubinol contains an outlier"
   ]
  },
  {
   "cell_type": "markdown",
   "metadata": {},
   "source": [
    "# Line and Scatter Plots"
   ]
  },
  {
   "cell_type": "markdown",
   "metadata": {},
   "source": [
    "## Selected Capomulin Mouse Tumor Progression"
   ]
  },
  {
   "cell_type": "code",
   "execution_count": 34,
   "metadata": {},
   "outputs": [],
   "source": [
    "# Pull the ID of the first mouse in the table treated with Capomulin\n",
    "for index, row in merge_df.iterrows():\n",
    "    if row[\"Drug Regimen\"] == \"Capomulin\":\n",
    "        selected_mouse = row[\"Mouse ID\"]\n",
    "    break\n",
    "\n",
    "# Narrow df to contain only the selected mouse\n",
    "cap_mouse_df = merge_df.loc[(merge_df[\"Mouse ID\"] == selected_mouse), :]\n",
    "\n",
    "# Create lists from the selected mouse's timepoint and tumor volume data\n",
    "cap_mouse_timepoint = cap_mouse_df[\"Timepoint\"]\n",
    "cap_mouse_tumor_vol = cap_mouse_df[\"Tumor Volume (mm3)\"]"
   ]
  },
  {
   "cell_type": "code",
   "execution_count": 38,
   "metadata": {},
   "outputs": [
    {
     "data": {
      "image/png": "[encoded data removed]",
      "text/plain": [
       "<Figure size 432x288 with 1 Axes>"
      ]
     },
     "metadata": {
      "needs_background": "light"
     },
     "output_type": "display_data"
    }
   ],
   "source": [
    "# Plot the selected mouse's tumor volume progression on a line chart\n",
    "plt.plot(cap_mouse_timepoint, cap_mouse_tumor_vol)\n",
    "plt.title(\"Tumor Volume Progression for Selected Mouse Treated with Capomulin\")\n",
    "plt.xlabel(\"Days\")\n",
    "plt.ylabel(\"Tumor Volume (mm3)\")\n",
    "plt.ylim(0, 50)\n",
    "\n",
    "# Display the chart\n",
    "plt.show()"
   ]
  },
  {
   "cell_type": "markdown",
   "metadata": {},
   "source": [
    "## Average Tumor Volume versus Weight for Capomulin-Treated Mice"
   ]
  },
  {
   "cell_type": "code",
   "execution_count": 50,
   "metadata": {},
   "outputs": [
    {
     "data": {
      "image/png": "[encoded data removed]",
      "text/plain": [
       "<Figure size 432x288 with 1 Axes>"
      ]
     },
     "metadata": {
      "needs_background": "light"
     },
     "output_type": "display_data"
    }
   ],
   "source": [
    "# Pull mice rows treated with Capomulin\n",
    "full_cap_df = merge_df.loc[(merge_df[\"Drug Regimen\"] == \"Capomulin\"), :]\n",
    "\n",
    "# Group by mouse and calculate averages by mouse on all data points\n",
    "cap_mouse_avg = full_cap_df.groupby(['Mouse ID']).mean()\n",
    "\n",
    "# Pull averages by mouse for weight and tumor volume\n",
    "cap_mouse_avg_weight = cap_mouse_avg[\"Weight (g)\"]\n",
    "cap_mouse_avg_tumor = cap_mouse_avg[\"Tumor Volume (mm3)\"]\n",
    "\n",
    "# Create scatter plot comparing the two stats\n",
    "plt.scatter(cap_mouse_avg_weight, cap_mouse_avg_tumor, marker=\"o\", facecolors=\"green\", edgecolors=\"none\")\n",
    "plt.title(\"Weight vs. Average Tumor Volume for Mice Treated with Capomulin\")\n",
    "plt.xlabel(\"Weight (g)\")\n",
    "plt.ylabel(\"Tumor Volume (mm3)\")\n",
    "plt.ylim(0, 50)\n",
    "plt.xlim(0, 27)\n",
    "\n",
    "# Display the chart\n",
    "plt.show()"
   ]
  },
  {
   "cell_type": "markdown",
   "metadata": {},
   "source": [
    "# Correlation and Regression"
   ]
  },
  {
   "cell_type": "markdown",
   "metadata": {},
   "source": [
    "## Average Tumor Volume versus Weight for Capomulin-Treated Mice"
   ]
  },
  {
   "cell_type": "code",
   "execution_count": 59,
   "metadata": {},
   "outputs": [
    {
     "name": "stdout",
     "output_type": "stream",
     "text": [
      "0.841936342469472\n"
     ]
    },
    {
     "data": {
      "image/png": "[encoded data removed]",
      "text/plain": [
       "<Figure size 432x288 with 1 Axes>"
      ]
     },
     "metadata": {
      "needs_background": "light"
     },
     "output_type": "display_data"
    }
   ],
   "source": [
    "# Calculate correlation/regression values for the weight/tumor volume relationship\n",
    "(slope, intercept, rvalue, pvalue, stderr) = linregress(cap_mouse_avg_weight, cap_mouse_avg_tumor)\n",
    "\n",
    "# Print correlation coefficient\n",
    "print(rvalue)\n",
    "\n",
    "# Use linear regress eq to solve for y and create printable equation\n",
    "regress_vals = (cap_mouse_avg_weight * slope) + intercept\n",
    "lin_equation = \"y = \" + str(round(slope,2)) + \"x + \" + str(round(intercept,2))\n",
    "\n",
    "# Plot scatter again\n",
    "plt.scatter(cap_mouse_avg_weight, cap_mouse_avg_tumor, marker=\"o\", facecolors=\"green\")\n",
    "\n",
    "# Plot linear regression on scatter plot\n",
    "plt.plot(cap_mouse_avg_weight, regress_vals, \"r-\")\n",
    "\n",
    "# Print equation text on the plot\n",
    "plt.annotate(lin_equation, (17, 30), fontsize=10, color=\"black\")\n",
    "\n",
    "# Add title and axis labels and adjust range of axes\n",
    "plt.title(\"Weight vs. Average Tumor Volume for Mice Treated with Capomulin\")\n",
    "plt.xlabel('Weight (g)')\n",
    "plt.ylabel('Tumor Volume (mm3)')\n",
    "plt.ylim(0, 50)\n",
    "plt.xlim(0, 27)\n",
    "\n",
    "# Display chart\n",
    "plt.show()"
   ]
  }
 ],
 "metadata": {
  "anaconda-cloud": {},
  "kernelspec": {
   "display_name": "Python 3",
   "language": "python",
   "name": "python3"
  },
  "language_info": {
   "codemirror_mode": {
    "name": "ipython",
    "version": 3
   },
   "file_extension": ".py",
   "mimetype": "text/x-python",
   "name": "python",
   "nbconvert_exporter": "python",
   "pygments_lexer": "ipython3",
   "version": "3.8.5"
  }
 },
 "nbformat": 4,
 "nbformat_minor": 4
}
